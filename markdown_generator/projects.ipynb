{
 "cells": [
  {
   "cell_type": "markdown",
   "metadata": {
    "deletable": true,
    "editable": true
   },
   "source": [
    "# Research markdown generator for academicpages\n",
    "\n",
    "Takes a TSV of research with metadata and converts them for use with [academicpages.github.io](academicpages.github.io). This is an interactive Jupyter notebook ([see more info here](http://jupyter-notebook-beginner-guide.readthedocs.io/en/latest/what_is_jupyter.html)). The core python code is also in `research.py`. Run either from the `markdown_generator` folder after replacing `research.tsv` with one containing your data.\n",
    "\n",
    "TODO: Make this work with BibTex and other databases of citations, rather than Stuart's non-standard TSV format and citation style.\n"
   ]
  },
  {
   "attachments": {},
   "cell_type": "markdown",
   "metadata": {},
   "source": [
    "## Data format\n",
    "\n",
    "The TSV needs to have the following columns: proj-date, title, excerpt, source, url_slug, project_url,  code_url, image with a header at the top. \n",
    "- `excerpt` and `image` can be blank, but the others must have values. \n",
    "- `proj-date` must be formatted as YYYY-MM-DD.\n",
    "- `url_slug` will be the descriptive part of the .md file and the permalink URL for the page about the paper. The .md file will be `YYYY-MM-DD-[url_slug].md` and the permalink will be `http://[yourdomain]/research/YYYY-MM-DD-[url_slug]`\n",
    "\n",
    "This is how the raw file looks (it doesn't look pretty, use a spreadsheet or other program to edit and create)."
   ]
  },
  {
   "cell_type": "code",
   "execution_count": 7,
   "metadata": {
    "collapsed": false
   },
   "outputs": [
    {
     "name": "stdout",
     "output_type": "stream",
     "text": [
      "proj_date\ttitle\texcerpt\tsource\turl_slug\tcode_url\tmedia\tthumbnail\tpaper_url\t   \t\n",
      "2020-12-20\tSnoring Detection on a Microcontroller\tSnoring is related to a common medical condition that can lead to many serious health issues including diabetes, stroke, and depression. Due to the negative health impacts of such medical condition, it is crucial for people to know whether they snore and understand their snoring patterns and triggers of snoring. In this paper, we propose a bed-side snoring detection program on microcontroller device that automatically identifies snoring sounds.\tRotaru, A., Kelly Zhang, Jiayu Yao (2020). \"Snoring Detection on a Microcontroller\" <i>Harvard CS249r: Tiny Machine Learning (TinyML) </i>.\tsnoring-detection\thttp://github.com/adrianagaler/Snoring-Detection\thttp://www.youtube.com/watch?v=aQpIooBEGsA\t../images/snoring.png\thttp://adrianarotaru.github.io/files/snoring.pdf\n",
      "2020-05-12\tUnity Bloxorz Game (Open GL Graphics)\tA game akin to Bloxorz in the Unity game engine. The game was built in the 3D framework of the Unity Hub, version 2020.3.6f1. To implement the functioning prototype, I utilized various tools within Unity such as its shader tools, physics engine, scene hierarchy, particle system, lighting engine, and more.\tRotaru, A., Revel Sebastian (2021). \"Unity Bloxorz Game (Open GL Graphics)\" <i>Harvard CS175: Computer Graphics </i>.\tgame-unity\thttp://github.com/adrianagaler/CS175-FinalProject\thttp://github.com/adrianagaler/CS175-FinalProject\t../images/game.png\thttp://adrianarotaru.github.io/files/game.pdf"
     ]
    }
   ],
   "source": [
    "!cat projects.tsv"
   ]
  },
  {
   "cell_type": "markdown",
   "metadata": {},
   "source": [
    "## Import pandas\n",
    "\n",
    "We are using the very handy pandas library for dataframes."
   ]
  },
  {
   "cell_type": "code",
   "execution_count": 8,
   "metadata": {
    "collapsed": true,
    "deletable": true,
    "editable": true
   },
   "outputs": [],
   "source": [
    "# ! pip install -U pandas\n",
    "import pandas as pd"
   ]
  },
  {
   "cell_type": "markdown",
   "metadata": {},
   "source": [
    "## Import TSV\n",
    "\n",
    "Pandas makes this easy with the read_csv function. We are using a TSV, so we specify the separator as a tab, or `\\t`.\n",
    "\n",
    "I found it important to put this data in a tab-separated values format, because there are a lot of commas in this kind of data and comma-separated values can get messed up. However, you can modify the import statement, as pandas also has read_excel(), read_json(), and others."
   ]
  },
  {
   "cell_type": "code",
   "execution_count": 9,
   "metadata": {
    "collapsed": false,
    "deletable": true,
    "editable": true
   },
   "outputs": [
    {
     "data": {
      "text/html": [
       "<div>\n",
       "<style scoped>\n",
       "    .dataframe tbody tr th:only-of-type {\n",
       "        vertical-align: middle;\n",
       "    }\n",
       "\n",
       "    .dataframe tbody tr th {\n",
       "        vertical-align: top;\n",
       "    }\n",
       "\n",
       "    .dataframe thead th {\n",
       "        text-align: right;\n",
       "    }\n",
       "</style>\n",
       "<table border=\"1\" class=\"dataframe\">\n",
       "  <thead>\n",
       "    <tr style=\"text-align: right;\">\n",
       "      <th></th>\n",
       "      <th>proj_date</th>\n",
       "      <th>title</th>\n",
       "      <th>excerpt</th>\n",
       "      <th>source</th>\n",
       "      <th>url_slug</th>\n",
       "      <th>code_url</th>\n",
       "      <th>media</th>\n",
       "      <th>thumbnail</th>\n",
       "      <th>paper_url</th>\n",
       "      <th></th>\n",
       "      <th>Unnamed: 10</th>\n",
       "    </tr>\n",
       "  </thead>\n",
       "  <tbody>\n",
       "    <tr>\n",
       "      <th>0</th>\n",
       "      <td>2020-12-20</td>\n",
       "      <td>Snoring Detection on a Microcontroller</td>\n",
       "      <td>Snoring is related to a common medical conditi...</td>\n",
       "      <td>Rotaru, A., Kelly Zhang, Jiayu Yao (2020). \"Sn...</td>\n",
       "      <td>snoring-detection</td>\n",
       "      <td>http://github.com/adrianagaler/Snoring-Detection</td>\n",
       "      <td>http://www.youtube.com/watch?v=aQpIooBEGsA</td>\n",
       "      <td>../images/snoring.png</td>\n",
       "      <td>http://adrianarotaru.github.io/files/snoring.pdf</td>\n",
       "      <td>NaN</td>\n",
       "      <td>NaN</td>\n",
       "    </tr>\n",
       "    <tr>\n",
       "      <th>1</th>\n",
       "      <td>2020-05-12</td>\n",
       "      <td>Unity Bloxorz Game (Open GL Graphics)</td>\n",
       "      <td>A game akin to Bloxorz in the Unity game engin...</td>\n",
       "      <td>Rotaru, A., Revel Sebastian (2021). \"Unity Blo...</td>\n",
       "      <td>game-unity</td>\n",
       "      <td>http://github.com/adrianagaler/CS175-FinalPro...</td>\n",
       "      <td>http://github.com/adrianagaler/CS175-FinalPro...</td>\n",
       "      <td>../images/game.png</td>\n",
       "      <td>http://adrianarotaru.github.io/files/game.pdf</td>\n",
       "      <td>NaN</td>\n",
       "      <td>NaN</td>\n",
       "    </tr>\n",
       "  </tbody>\n",
       "</table>\n",
       "</div>"
      ],
      "text/plain": [
       "    proj_date                                   title   \n",
       "0  2020-12-20  Snoring Detection on a Microcontroller  \\\n",
       "1  2020-05-12   Unity Bloxorz Game (Open GL Graphics)   \n",
       "\n",
       "                                             excerpt   \n",
       "0  Snoring is related to a common medical conditi...  \\\n",
       "1  A game akin to Bloxorz in the Unity game engin...   \n",
       "\n",
       "                                              source           url_slug   \n",
       "0  Rotaru, A., Kelly Zhang, Jiayu Yao (2020). \"Sn...  snoring-detection  \\\n",
       "1  Rotaru, A., Revel Sebastian (2021). \"Unity Blo...         game-unity   \n",
       "\n",
       "                                            code_url   \n",
       "0  http://github.com/adrianagaler/Snoring-Detection  \\\n",
       "1  http://github.com/adrianagaler/CS175-FinalPro...   \n",
       "\n",
       "                                               media              thumbnail   \n",
       "0        http://www.youtube.com/watch?v=aQpIooBEGsA  ../images/snoring.png  \\\n",
       "1  http://github.com/adrianagaler/CS175-FinalPro...     ../images/game.png   \n",
       "\n",
       "                                           paper_url       Unnamed: 10  \n",
       "0  http://adrianarotaru.github.io/files/snoring.pdf  NaN          NaN  \n",
       "1     http://adrianarotaru.github.io/files/game.pdf  NaN          NaN  "
      ]
     },
     "execution_count": 9,
     "metadata": {},
     "output_type": "execute_result"
    }
   ],
   "source": [
    "research = pd.read_csv(\"projects.tsv\", sep=\"\\t\", header=0)\n",
    "research\n"
   ]
  },
  {
   "cell_type": "markdown",
   "metadata": {},
   "source": [
    "## Escape special characters\n",
    "\n",
    "YAML is very picky about how it takes a valid string, so we are replacing single and double quotes (and ampersands) with their HTML encoded equivilents. This makes them look not so readable in raw format, but they are parsed and rendered nicely."
   ]
  },
  {
   "cell_type": "code",
   "execution_count": 10,
   "metadata": {
    "collapsed": true,
    "deletable": true,
    "editable": true
   },
   "outputs": [],
   "source": [
    "html_escape_table = {\n",
    "    \"&\": \"&amp;\",\n",
    "    '\"': \"&quot;\",\n",
    "    \"'\": \"&apos;\"\n",
    "    }\n",
    "\n",
    "def html_escape(text):\n",
    "    \"\"\"Produce entities within text.\"\"\"\n",
    "    return \"\".join(html_escape_table.get(c,c) for c in text)"
   ]
  },
  {
   "cell_type": "markdown",
   "metadata": {},
   "source": [
    "## Creating the markdown files\n",
    "\n",
    "This is where the heavy lifting is done. This loops through all the rows in the TSV dataframe, then starts to concatentate a big string (```md```) that contains the markdown for each type. It does the YAML metadata first, then does the description for the individual page."
   ]
  },
  {
   "cell_type": "code",
   "execution_count": 11,
   "metadata": {
    "collapsed": false,
    "deletable": true,
    "editable": true
   },
   "outputs": [],
   "source": [
    "import os\n",
    "import numpy as np\n",
    "for row, item in research.iterrows():\n",
    "    md_filename = str(item.proj_date) + \"-\" + item.url_slug + \".md\"\n",
    "    html_filename = str(item.proj_date) + \"-\" + item.url_slug\n",
    "    year = item.proj_date[:4]\n",
    "    \n",
    "    ## YAML variables\n",
    "    \n",
    "    md = \"---\\ntitle: \\\"\"   + item.title + '\"\\n'\n",
    "    \n",
    "    md += \"\"\"collection: projects\"\"\"\n",
    "    \n",
    "    md += \"\"\"\\npermalink: /project/\"\"\" + html_filename\n",
    "    \n",
    "    if len(str(item.excerpt)) > 5:\n",
    "        md += \"\\nexcerpt: '\" + html_escape(item.excerpt) + \"'\"\n",
    "    \n",
    "    md += \"\\ndate: \" + str(item.proj_date)     \n",
    "    md += \"\\ncodeurl: '\" + html_escape(item.code_url) + \"'\"\n",
    "    \n",
    "    md += \"\\nsource: '\" + html_escape(item.source) + \"'\"\n",
    "\n",
    "    md += \"\\n---\"\n",
    "    \n",
    "    \n",
    "    ## Markdown description for individual page\n",
    "        \n",
    "    if len(str(item.excerpt)) > 5:\n",
    "        md += \"\\n\" + html_escape(item.excerpt) + \"\\n\"\n",
    "    \n",
    "    if len(str(item.code_url)) > 5:\n",
    "        md += \"\\n[Access code here](\" + item.code_url + \")\\n\" \n",
    "\n",
    "    if len(str(item.paper_url)) > 5:\n",
    "        md += \"\\n[Download paper here](\" + item.paper_url + \")\\n\"\n",
    "\n",
    "    if not pd.isnull(item.thumbnail) and not pd.isnull(item.media):\n",
    "        md += f\"\\n[![{item.title}]({item.thumbnail})]({item.media})\\n\"\n",
    "\n",
    "    md_filename = os.path.basename(md_filename)\n",
    "       \n",
    "    with open(\"../_projects/\" + md_filename, 'w') as f:\n",
    "        f.write(md)"
   ]
  },
  {
   "cell_type": "markdown",
   "metadata": {},
   "source": [
    "These files are in the research directory, one directory below where we're working from."
   ]
  },
  {
   "cell_type": "code",
   "execution_count": 12,
   "metadata": {
    "collapsed": false,
    "deletable": true,
    "editable": true
   },
   "outputs": [],
   "source": [
    "!ls ../_projects/"
   ]
  },
  {
   "cell_type": "code",
   "execution_count": null,
   "metadata": {
    "collapsed": true,
    "deletable": true,
    "editable": true
   },
   "outputs": [],
   "source": []
  }
 ],
 "metadata": {
  "interpreter": {
   "hash": "aee8b7b246df8f9039afb4144a1f6fd8d2ca17a180786b69acc140d282b71a49"
  },
  "kernelspec": {
   "display_name": "Python 3.10.4 64-bit",
   "language": "python",
   "name": "python3"
  },
  "language_info": {
   "codemirror_mode": {
    "name": "ipython",
    "version": 3
   },
   "file_extension": ".py",
   "mimetype": "text/x-python",
   "name": "python",
   "nbconvert_exporter": "python",
   "pygments_lexer": "ipython3",
   "version": "3.10.4"
  }
 },
 "nbformat": 4,
 "nbformat_minor": 0
}
