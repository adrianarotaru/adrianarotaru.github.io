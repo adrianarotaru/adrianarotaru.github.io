{
 "cells": [
  {
   "cell_type": "markdown",
   "metadata": {
    "deletable": true,
    "editable": true
   },
   "source": [
    "# Publications markdown generator for academicpages\n",
    "\n",
    "Takes a TSV of publications with metadata and converts them for use with [academicpages.github.io](academicpages.github.io). This is an interactive Jupyter notebook ([see more info here](http://jupyter-notebook-beginner-guide.readthedocs.io/en/latest/what_is_jupyter.html)). The core python code is also in `publications.py`. Run either from the `markdown_generator` folder after replacing `publications.tsv` with one containing your data.\n",
    "\n",
    "TODO: Make this work with BibTex and other databases of citations, rather than Stuart's non-standard TSV format and citation style.\n"
   ]
  },
  {
   "attachments": {},
   "cell_type": "markdown",
   "metadata": {},
   "source": [
    "## Data format\n",
    "\n",
    "The TSV needs to have the following columns: proj-date, title, excerpt, source, url_slug, project_url, and code_url, with a header at the top. \n",
    "- `excerpt` can be blank, but the others must have values. \n",
    "- `proj-date` must be formatted as YYYY-MM-DD.\n",
    "- `url_slug` will be the descriptive part of the .md file and the permalink URL for the page about the paper. The .md file will be `YYYY-MM-DD-[url_slug].md` and the permalink will be `https://[yourdomain]/publications/YYYY-MM-DD-[url_slug]`\n",
    "\n",
    "This is how the raw file looks (it doesn't look pretty, use a spreadsheet or other program to edit and create)."
   ]
  },
  {
   "cell_type": "code",
   "execution_count": 34,
   "metadata": {
    "collapsed": false
   },
   "outputs": [
    {
     "name": "stdout",
     "output_type": "stream",
     "text": [
      "proj_date\ttitle\texcerpt\tsource\turl_slug\tproject_url\tcode_url\n",
      "2021-05-31\tSnoring Detection on a Microcontroller\tSnoring is related to a common medical condition that can lead to many serious health issues including diabetes, stroke, and depression. Due to the negative health impacts of such medical condition, it is crucial for people to know whether they snore and understand their snoring patterns and triggers of snoring. In this paper, we propose a bed-side snoring detection program on microcontroller device that automatically identifies snoring sounds.This paper explores the development of a testing methodology in the context of accurately predicting future battery performance using machine learning. In particular, I propose a Dense Neural Network Model that can predict battery life using data from the first 50 cycles in the battery life.\tRotaru, A., Kelly Zhang, Jiayu Yao (2020). \"Snoring Detection on a Microcontroller\" <i>Harvard CS249r: Tiny Machine Learning (TinyML) </i>.\tsnoring-detection\thttps://www.youtube.com/watch?v=aQpIooBEGsA\thttps://github.com/adrianagaler/Snoring-Detection"
     ]
    }
   ],
   "source": [
    "!cat projects.tsv"
   ]
  },
  {
   "cell_type": "markdown",
   "metadata": {},
   "source": [
    "## Import pandas\n",
    "\n",
    "We are using the very handy pandas library for dataframes."
   ]
  },
  {
   "cell_type": "code",
   "execution_count": 35,
   "metadata": {
    "collapsed": true,
    "deletable": true,
    "editable": true
   },
   "outputs": [],
   "source": [
    "# ! pip install -U pandas\n",
    "import pandas as pd"
   ]
  },
  {
   "cell_type": "markdown",
   "metadata": {},
   "source": [
    "## Import TSV\n",
    "\n",
    "Pandas makes this easy with the read_csv function. We are using a TSV, so we specify the separator as a tab, or `\\t`.\n",
    "\n",
    "I found it important to put this data in a tab-separated values format, because there are a lot of commas in this kind of data and comma-separated values can get messed up. However, you can modify the import statement, as pandas also has read_excel(), read_json(), and others."
   ]
  },
  {
   "cell_type": "code",
   "execution_count": 36,
   "metadata": {
    "collapsed": false,
    "deletable": true,
    "editable": true
   },
   "outputs": [
    {
     "data": {
      "text/html": [
       "<div>\n",
       "<style scoped>\n",
       "    .dataframe tbody tr th:only-of-type {\n",
       "        vertical-align: middle;\n",
       "    }\n",
       "\n",
       "    .dataframe tbody tr th {\n",
       "        vertical-align: top;\n",
       "    }\n",
       "\n",
       "    .dataframe thead th {\n",
       "        text-align: right;\n",
       "    }\n",
       "</style>\n",
       "<table border=\"1\" class=\"dataframe\">\n",
       "  <thead>\n",
       "    <tr style=\"text-align: right;\">\n",
       "      <th></th>\n",
       "      <th>proj_date</th>\n",
       "      <th>title</th>\n",
       "      <th>excerpt</th>\n",
       "      <th>source</th>\n",
       "      <th>url_slug</th>\n",
       "      <th>project_url</th>\n",
       "      <th>code_url</th>\n",
       "    </tr>\n",
       "  </thead>\n",
       "  <tbody>\n",
       "    <tr>\n",
       "      <th>0</th>\n",
       "      <td>2021-05-31</td>\n",
       "      <td>Snoring Detection on a Microcontroller</td>\n",
       "      <td>Snoring is related to a common medical conditi...</td>\n",
       "      <td>Rotaru, A., Kelly Zhang, Jiayu Yao (2020). \"Sn...</td>\n",
       "      <td>snoring-detection</td>\n",
       "      <td>https://www.youtube.com/watch?v=aQpIooBEGsA</td>\n",
       "      <td>https://github.com/adrianagaler/Snoring-Detection</td>\n",
       "    </tr>\n",
       "  </tbody>\n",
       "</table>\n",
       "</div>"
      ],
      "text/plain": [
       "    proj_date                                   title   \n",
       "0  2021-05-31  Snoring Detection on a Microcontroller  \\\n",
       "\n",
       "                                             excerpt   \n",
       "0  Snoring is related to a common medical conditi...  \\\n",
       "\n",
       "                                              source           url_slug   \n",
       "0  Rotaru, A., Kelly Zhang, Jiayu Yao (2020). \"Sn...  snoring-detection  \\\n",
       "\n",
       "                                   project_url   \n",
       "0  https://www.youtube.com/watch?v=aQpIooBEGsA  \\\n",
       "\n",
       "                                            code_url  \n",
       "0  https://github.com/adrianagaler/Snoring-Detection  "
      ]
     },
     "execution_count": 36,
     "metadata": {},
     "output_type": "execute_result"
    }
   ],
   "source": [
    "publications = pd.read_csv(\"projects.tsv\", sep=\"\\t\", header=0)\n",
    "publications\n"
   ]
  },
  {
   "cell_type": "markdown",
   "metadata": {},
   "source": [
    "## Escape special characters\n",
    "\n",
    "YAML is very picky about how it takes a valid string, so we are replacing single and double quotes (and ampersands) with their HTML encoded equivilents. This makes them look not so readable in raw format, but they are parsed and rendered nicely."
   ]
  },
  {
   "cell_type": "code",
   "execution_count": 37,
   "metadata": {
    "collapsed": true,
    "deletable": true,
    "editable": true
   },
   "outputs": [],
   "source": [
    "html_escape_table = {\n",
    "    \"&\": \"&amp;\",\n",
    "    '\"': \"&quot;\",\n",
    "    \"'\": \"&apos;\"\n",
    "    }\n",
    "\n",
    "def html_escape(text):\n",
    "    \"\"\"Produce entities within text.\"\"\"\n",
    "    return \"\".join(html_escape_table.get(c,c) for c in text)"
   ]
  },
  {
   "cell_type": "markdown",
   "metadata": {},
   "source": [
    "## Creating the markdown files\n",
    "\n",
    "This is where the heavy lifting is done. This loops through all the rows in the TSV dataframe, then starts to concatentate a big string (```md```) that contains the markdown for each type. It does the YAML metadata first, then does the description for the individual page."
   ]
  },
  {
   "cell_type": "code",
   "execution_count": 38,
   "metadata": {
    "collapsed": false,
    "deletable": true,
    "editable": true
   },
   "outputs": [
    {
     "name": "stdout",
     "output_type": "stream",
     "text": [
      "zsh:1: bad pattern: [image\n"
     ]
    }
   ],
   "source": [
    "import os\n",
    "for row, item in publications.iterrows():\n",
    "    \n",
    "    md_filename = str(item.proj_date) + \"-\" + item.url_slug + \".md\"\n",
    "    html_filename = str(item.proj_date) + \"-\" + item.url_slug\n",
    "    year = item.proj_date[:4]\n",
    "    \n",
    "    ## YAML variables\n",
    "    \n",
    "    md = \"---\\ntitle: \\\"\"   + item.title + '\"\\n'\n",
    "    \n",
    "    md += \"\"\"collection: projects\"\"\"\n",
    "    \n",
    "    md += \"\"\"\\npermalink: /project/\"\"\" + html_filename\n",
    "    \n",
    "    if len(str(item.excerpt)) > 5:\n",
    "        md += \"\\nexcerpt: '\" + html_escape(item.excerpt) + \"'\"\n",
    "    \n",
    "    md += \"\\ndate: \" + str(item.proj_date) \n",
    "    \n",
    "    md += \"\\nprojecturl: '\" + html_escape(item.project_url) + \"'\"\n",
    "    \n",
    "    if len(str(item.project_url)) > 5:\n",
    "        md += \"\\nprojecturl: '\" + item.project_url + \"'\"\n",
    "    \n",
    "    md += \"\\ncodeurl: '\" + html_escape(item.code_url) + \"'\"\n",
    "    \n",
    "    if len(str(item.code_url)) > 5:\n",
    "        md += \"\\ncodeurl: '\" + item.code_url + \"'\"\n",
    "    \n",
    "    md += \"\\nsource: '\" + html_escape(item.source) + \"'\"\n",
    "    \n",
    "    md += \"\\n---\"\n",
    "    \n",
    "    ## Markdown description for individual page\n",
    "        \n",
    "    if len(str(item.excerpt)) > 5:\n",
    "        md += \"\\n\" + html_escape(item.excerpt) + \"\\n\"\n",
    "    \n",
    "    if len(str(item.code_url)) > 5:\n",
    "        md += \"\\n[Access code here](\" + item.code_url + \")\\n\" \n",
    "        \n",
    "    md += f\"\\n![{item.title}]({item.project_url})\"\n",
    "\n",
    "    ![image alt text](https://example.com/link-to-image)\n",
    "\n",
    "    md_filename = os.path.basename(md_filename)\n",
    "       \n",
    "    with open(\"../_projects/\" + md_filename, 'w') as f:\n",
    "        f.write(md)"
   ]
  },
  {
   "cell_type": "markdown",
   "metadata": {},
   "source": [
    "These files are in the publications directory, one directory below where we're working from."
   ]
  },
  {
   "cell_type": "code",
   "execution_count": 39,
   "metadata": {
    "collapsed": false,
    "deletable": true,
    "editable": true
   },
   "outputs": [
    {
     "name": "stdout",
     "output_type": "stream",
     "text": [
      "2021-05-31-snoring-detection.md\n"
     ]
    }
   ],
   "source": [
    "!ls ../_projects/"
   ]
  },
  {
   "cell_type": "code",
   "execution_count": null,
   "metadata": {
    "collapsed": true,
    "deletable": true,
    "editable": true
   },
   "outputs": [],
   "source": []
  }
 ],
 "metadata": {
  "kernelspec": {
   "display_name": "Python 3",
   "language": "python",
   "name": "python3"
  },
  "language_info": {
   "codemirror_mode": {
    "name": "ipython",
    "version": 3
   },
   "file_extension": ".py",
   "mimetype": "text/x-python",
   "name": "python",
   "nbconvert_exporter": "python",
   "pygments_lexer": "ipython3",
   "version": "3.8.16"
  }
 },
 "nbformat": 4,
 "nbformat_minor": 0
}
