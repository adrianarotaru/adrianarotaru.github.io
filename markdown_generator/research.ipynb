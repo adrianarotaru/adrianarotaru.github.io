{
 "cells": [
  {
   "attachments": {},
   "cell_type": "markdown",
   "metadata": {
    "deletable": true,
    "editable": true
   },
   "source": [
    "# Research markdown generator for academicpages\n",
    "\n",
    "Takes a TSV of research with metadata and converts them for use with [academicpages.github.io](academicpages.github.io). This is an interactive Jupyter notebook ([see more info here](https://jupyter-notebook-beginner-guide.readthedocs.io/en/latest/what_is_jupyter.html)). The core python code is also in `research.py`. Run either from the `markdown_generator` folder after replacing `research.tsv` with one containing your data.\n",
    "\n",
    "TODO: Make this work with BibTex and other databases of citations, rather than Stuart's non-standard TSV format and citation style.\n"
   ]
  },
  {
   "attachments": {},
   "cell_type": "markdown",
   "metadata": {},
   "source": [
    "## Data format\n",
    "\n",
    "The TSV needs to have the following columns: pub_date, title, venue, excerpt, citation, site_url, and paper_url, with a header at the top. \n",
    "\n",
    "- `excerpt` and `paper_url` can be blank, but the others must have values. \n",
    "- `pub_date` must be formatted as YYYY-MM-DD.\n",
    "- `url_slug` will be the descriptive part of the .md file and the permalink URL for the page about the paper. The .md file will be `YYYY-MM-DD-[url_slug].md` and the permalink will be `https://[yourdomain]/research/YYYY-MM-DD-[url_slug]`\n",
    "\n",
    "This is how the raw file looks (it doesn't look pretty, use a spreadsheet or other program to edit and create)."
   ]
  },
  {
   "cell_type": "code",
   "execution_count": 13,
   "metadata": {
    "collapsed": false
   },
   "outputs": [
    {
     "name": "stdout",
     "output_type": "stream",
     "text": [
      "pub_date\ttitle\tfield\tvenue\texcerpt\tcitation\turl_slug\tpaper_url\n",
      "2021-05-31\tEmbedded Dense Neural Networks for Battery Cyclability Prediction on Automotive Microcontroller Devices\tMachine Learning\tHarvard Library Office for Scholarly Communication\tThis paper explores the development of a testing methodology in the context of accurately predicting future battery performance using machine learning. In particular, I propose a Dense Neural Network Model that can predict battery life using data from the first 50 cycles in the battery life.\tRotaru, A. (2021). \"Embedded Dense Neural Networks for Battery Cyclability Prediction on Automotive Microcontroller Devices\" <i>Harvard Library Office for Scholarly Communication</i>\tembedded-dnn-battery\thttps://dash.harvard.edu/handle/1/37368547\n",
      "2016-02-16\tThe effects of Caloric restriction on the Biological Indices of Homeostasis\tPathophysiology, Medicine\tMoldSEF National Science and Engineering Fair\t  This paper studies the benefits of a caloric restrictive diet on preventing aging. In order to study the benefits of this type of diet, this paper compares the amount of antioxidants in the blood of rats under dietary restriction and in rats with normal diet. The results of the experiment can be used to explain how a dietary restriction can increase longevity. The findings might be useful in convincing people to adopt a new pattern in food consumption – reducing the daily amount of calories by 30%, thus improving life quality.\tRotaru, A., Tataru, E. (2016). \"The effects of Caloric restriction on the Biological Indices of Homeostasis\"\tcaloric-restriction\thttps://adrianarotaru.github.io/files/caloric.pdf\n",
      "2017-04-01\tAngiotensin 1-7 blunts in vitro induced acute heart failure\tCardiology\tEuropean Journal of Heart Failure, 2017; <i> The 4th World Congress on Acute Heart Failure, Paris, France, 29 April – 2 May 2017 </i>\tAngiotensin 1-7 (Ang 1-7) comprises consistent evidences regarding cardiovascular regulatory benefits due to Ang II receptor AT1 modulation via mass receptor. The aim of the paper is to evaluate the Ang 1-7 cardiac effects in the in vitro induced acute heart failure.\tCobet, V., Rotaru, A., et al., (2017). Angiotensin 1-7 blunts in vitro induced acute heart failure. <i>European Journal of Heart Failure</i>, 19 (S1), 597.  https://doi.org/10.1002/ejhf.833\tangiotensin\thttps://repository.usmf.md/handle/20.500.12710/19699\n",
      "2018-05-01\tVanhoutte and Bowditch phenomena in heart failure: their relation to ischemia-reperfusion impact\tCardiology\tEuropean Journal of Heart Failure, 2018\t  Evaluation of both 15,16-epoxyeicosatrien (15,16-EET) induced coronaro dilation and Bowditch’s staircase in experimental heart failure (HF) as well as their influence on ischemic contracture and functional recovery of isolated heart during reperfusion impact.\tTacu, L., Rotaru, A., et al. (2018). Vanhoutte and Bowditch phenomena in heart failure: their relation to ischemia-reperfusionimpact. European Journal of Heart Failure, 20 (S1), 335.  https://doi.org/10.1002/ejhf.1197\tbowditch\thttps://repository.usmf.md/handle/20.500.12710/19698\n",
      "2017-04-01\tCoronary response in doxorubicin-induced cardiomyopathy\tCardiology\tEuropean Journal of Heart Failure, 2017; <i> The 4th World Congress on Acute Heart Failure, Paris, France, 29 April – 2 May 2017 </i>\tCoronary reserve and reactivity traits regarding doxorubicin (Dx) car-diotoxicity are less known comparatively to myocardial contraction and inotropiccapacities.Aim:the in vitro evaluation of coronary response to natural vasotropic agent actionin Dx-induced cardiomyopathy (Dx-CMP).\tCobet, V., Rotaru, A., et al. (2017). Coronary response in doxorubicin-induced cardiomyopathy. European Journal of Heart Failure, 19 (S1), 165.  https://doi.org/10.1002/ejhf.833\tcoronary\thttps://repository.usmf.md/handle/20.500.12710/19645"
     ]
    }
   ],
   "source": [
    "!cat research.tsv"
   ]
  },
  {
   "attachments": {},
   "cell_type": "markdown",
   "metadata": {},
   "source": [
    "## Import pandas\n",
    "\n",
    "We are using the very handy pandas library for dataframes."
   ]
  },
  {
   "cell_type": "code",
   "execution_count": 14,
   "metadata": {
    "collapsed": true,
    "deletable": true,
    "editable": true
   },
   "outputs": [
    {
     "name": "stdout",
     "output_type": "stream",
     "text": [
      "/bin/bash: pip: command not found\n"
     ]
    }
   ],
   "source": [
    "! pip install -U pandas\n",
    "import pandas as pd"
   ]
  },
  {
   "attachments": {},
   "cell_type": "markdown",
   "metadata": {},
   "source": [
    "## Import TSV\n",
    "\n",
    "Pandas makes this easy with the read_csv function. We are using a TSV, so we specify the separator as a tab, or `\\t`.\n",
    "\n",
    "I found it important to put this data in a tab-separated values format, because there are a lot of commas in this kind of data and comma-separated values can get messed up. However, you can modify the import statement, as pandas also has read_excel(), read_json(), and others."
   ]
  },
  {
   "cell_type": "code",
   "execution_count": 15,
   "metadata": {
    "collapsed": false,
    "deletable": true,
    "editable": true
   },
   "outputs": [
    {
     "data": {
      "text/html": [
       "<div>\n",
       "<style scoped>\n",
       "    .dataframe tbody tr th:only-of-type {\n",
       "        vertical-align: middle;\n",
       "    }\n",
       "\n",
       "    .dataframe tbody tr th {\n",
       "        vertical-align: top;\n",
       "    }\n",
       "\n",
       "    .dataframe thead th {\n",
       "        text-align: right;\n",
       "    }\n",
       "</style>\n",
       "<table border=\"1\" class=\"dataframe\">\n",
       "  <thead>\n",
       "    <tr style=\"text-align: right;\">\n",
       "      <th></th>\n",
       "      <th>pub_date</th>\n",
       "      <th>title</th>\n",
       "      <th>field</th>\n",
       "      <th>venue</th>\n",
       "      <th>excerpt</th>\n",
       "      <th>citation</th>\n",
       "      <th>url_slug</th>\n",
       "      <th>paper_url</th>\n",
       "    </tr>\n",
       "  </thead>\n",
       "  <tbody>\n",
       "    <tr>\n",
       "      <th>0</th>\n",
       "      <td>2021-05-31</td>\n",
       "      <td>Embedded Dense Neural Networks for Battery Cyc...</td>\n",
       "      <td>Machine Learning</td>\n",
       "      <td>Harvard Library Office for Scholarly Communica...</td>\n",
       "      <td>This paper explores the development of a testi...</td>\n",
       "      <td>Rotaru, A. (2021). \"Embedded Dense Neural Netw...</td>\n",
       "      <td>embedded-dnn-battery</td>\n",
       "      <td>https://dash.harvard.edu/handle/1/37368547</td>\n",
       "    </tr>\n",
       "    <tr>\n",
       "      <th>1</th>\n",
       "      <td>2016-02-16</td>\n",
       "      <td>The effects of Caloric restriction on the Biol...</td>\n",
       "      <td>Pathophysiology, Medicine</td>\n",
       "      <td>MoldSEF National Science and Engineering Fair</td>\n",
       "      <td>This paper studies the benefits of a caloric...</td>\n",
       "      <td>Rotaru, A., Tataru, E. (2016). \"The effects of...</td>\n",
       "      <td>caloric-restriction</td>\n",
       "      <td>https://adrianarotaru.github.io/files/caloric.pdf</td>\n",
       "    </tr>\n",
       "    <tr>\n",
       "      <th>2</th>\n",
       "      <td>2017-04-01</td>\n",
       "      <td>Angiotensin 1-7 blunts in vitro induced acute ...</td>\n",
       "      <td>Cardiology</td>\n",
       "      <td>European Journal of Heart Failure, 2017; &lt;i&gt; T...</td>\n",
       "      <td>Angiotensin 1-7 (Ang 1-7) comprises consistent...</td>\n",
       "      <td>Cobet, V., Rotaru, A., et al., (2017). Angiote...</td>\n",
       "      <td>angiotensin</td>\n",
       "      <td>https://repository.usmf.md/handle/20.500.12710...</td>\n",
       "    </tr>\n",
       "    <tr>\n",
       "      <th>3</th>\n",
       "      <td>2018-05-01</td>\n",
       "      <td>Vanhoutte and Bowditch phenomena in heart fail...</td>\n",
       "      <td>Cardiology</td>\n",
       "      <td>European Journal of Heart Failure, 2018</td>\n",
       "      <td>Evaluation of both 15,16-epoxyeicosatrien (1...</td>\n",
       "      <td>Tacu, L., Rotaru, A., et al. (2018). Vanhoutte...</td>\n",
       "      <td>bowditch</td>\n",
       "      <td>https://repository.usmf.md/handle/20.500.12710...</td>\n",
       "    </tr>\n",
       "    <tr>\n",
       "      <th>4</th>\n",
       "      <td>2017-04-01</td>\n",
       "      <td>Coronary response in doxorubicin-induced cardi...</td>\n",
       "      <td>Cardiology</td>\n",
       "      <td>European Journal of Heart Failure, 2017; &lt;i&gt; T...</td>\n",
       "      <td>Coronary reserve and reactivity traits regardi...</td>\n",
       "      <td>Cobet, V., Rotaru, A., et al. (2017). Coronary...</td>\n",
       "      <td>coronary</td>\n",
       "      <td>https://repository.usmf.md/handle/20.500.12710...</td>\n",
       "    </tr>\n",
       "  </tbody>\n",
       "</table>\n",
       "</div>"
      ],
      "text/plain": [
       "     pub_date                                              title   \n",
       "0  2021-05-31  Embedded Dense Neural Networks for Battery Cyc...  \\\n",
       "1  2016-02-16  The effects of Caloric restriction on the Biol...   \n",
       "2  2017-04-01  Angiotensin 1-7 blunts in vitro induced acute ...   \n",
       "3  2018-05-01  Vanhoutte and Bowditch phenomena in heart fail...   \n",
       "4  2017-04-01  Coronary response in doxorubicin-induced cardi...   \n",
       "\n",
       "                       field   \n",
       "0           Machine Learning  \\\n",
       "1  Pathophysiology, Medicine   \n",
       "2                 Cardiology   \n",
       "3                 Cardiology   \n",
       "4                 Cardiology   \n",
       "\n",
       "                                               venue   \n",
       "0  Harvard Library Office for Scholarly Communica...  \\\n",
       "1      MoldSEF National Science and Engineering Fair   \n",
       "2  European Journal of Heart Failure, 2017; <i> T...   \n",
       "3            European Journal of Heart Failure, 2018   \n",
       "4  European Journal of Heart Failure, 2017; <i> T...   \n",
       "\n",
       "                                             excerpt   \n",
       "0  This paper explores the development of a testi...  \\\n",
       "1    This paper studies the benefits of a caloric...   \n",
       "2  Angiotensin 1-7 (Ang 1-7) comprises consistent...   \n",
       "3    Evaluation of both 15,16-epoxyeicosatrien (1...   \n",
       "4  Coronary reserve and reactivity traits regardi...   \n",
       "\n",
       "                                            citation              url_slug   \n",
       "0  Rotaru, A. (2021). \"Embedded Dense Neural Netw...  embedded-dnn-battery  \\\n",
       "1  Rotaru, A., Tataru, E. (2016). \"The effects of...   caloric-restriction   \n",
       "2  Cobet, V., Rotaru, A., et al., (2017). Angiote...           angiotensin   \n",
       "3  Tacu, L., Rotaru, A., et al. (2018). Vanhoutte...              bowditch   \n",
       "4  Cobet, V., Rotaru, A., et al. (2017). Coronary...              coronary   \n",
       "\n",
       "                                           paper_url  \n",
       "0         https://dash.harvard.edu/handle/1/37368547  \n",
       "1  https://adrianarotaru.github.io/files/caloric.pdf  \n",
       "2  https://repository.usmf.md/handle/20.500.12710...  \n",
       "3  https://repository.usmf.md/handle/20.500.12710...  \n",
       "4  https://repository.usmf.md/handle/20.500.12710...  "
      ]
     },
     "execution_count": 15,
     "metadata": {},
     "output_type": "execute_result"
    }
   ],
   "source": [
    "research = pd.read_csv(\"research.tsv\", sep=\"\\t\", header=0)\n",
    "research\n"
   ]
  },
  {
   "attachments": {},
   "cell_type": "markdown",
   "metadata": {},
   "source": [
    "## Escape special characters\n",
    "\n",
    "YAML is very picky about how it takes a valid string, so we are replacing single and double quotes (and ampersands) with their HTML encoded equivilents. This makes them look not so readable in raw format, but they are parsed and rendered nicely."
   ]
  },
  {
   "cell_type": "code",
   "execution_count": 16,
   "metadata": {
    "collapsed": true,
    "deletable": true,
    "editable": true
   },
   "outputs": [],
   "source": [
    "html_escape_table = {\n",
    "    \"&\": \"&amp;\",\n",
    "    '\"': \"&quot;\",\n",
    "    \"'\": \"&apos;\"\n",
    "    }\n",
    "\n",
    "def html_escape(text):\n",
    "    \"\"\"Produce entities within text.\"\"\"\n",
    "    return \"\".join(html_escape_table.get(c,c) for c in text)"
   ]
  },
  {
   "attachments": {},
   "cell_type": "markdown",
   "metadata": {},
   "source": [
    "## Creating the markdown files\n",
    "\n",
    "This is where the heavy lifting is done. This loops through all the rows in the TSV dataframe, then starts to concatentate a big string (```md```) that contains the markdown for each type. It does the YAML metadata first, then does the description for the individual page."
   ]
  },
  {
   "cell_type": "code",
   "execution_count": 17,
   "metadata": {
    "collapsed": false,
    "deletable": true,
    "editable": true
   },
   "outputs": [],
   "source": [
    "import os\n",
    "for row, item in research.iterrows():\n",
    "    \n",
    "    md_filename = str(item.pub_date) + \"-\" + item.url_slug + \".md\"\n",
    "    html_filename = str(item.pub_date) + \"-\" + item.url_slug\n",
    "    year = item.pub_date[:4]\n",
    "    \n",
    "    ## YAML variables\n",
    "    \n",
    "    md = \"---\\ntitle: \\\"\"   + item.title + '\"\\n'\n",
    "    \n",
    "    md += \"\"\"collection: research\"\"\"\n",
    "    \n",
    "    md += \"\"\"\\npermalink: /paper/\"\"\" + html_filename\n",
    "    \n",
    "    if len(str(item.excerpt)) > 5:\n",
    "        md += \"\\nexcerpt: '\" + html_escape(item.excerpt) + \"'\"\n",
    "    \n",
    "    md += \"\\nfield: '\" + item.field + \"'\"\n",
    "    md += \"\\ndate: \" + str(item.pub_date) \n",
    "    \n",
    "    md += \"\\nvenue: '\" + html_escape(item.venue) + \"'\"\n",
    "    \n",
    "   \n",
    "    \n",
    "    # if len(str(item.paper_url)) > 5:\n",
    "    #     md += \"\\npaperurl: '\" + item.paper_url + \"'\"\n",
    "    \n",
    "    md += \"\\ncitation: '\" + html_escape(item.citation) + \"'\"\n",
    "    \n",
    "    md += \"\\n---\"\n",
    "    \n",
    "    ## Markdown description for individual page\n",
    "        \n",
    "    if len(str(item.excerpt)) > 5:\n",
    "        md += \"\\n\" + html_escape(item.excerpt) + \"\\n\"\n",
    "    \n",
    "    if len(str(item.paper_url)) > 5:\n",
    "        md += \"\\n[Download abstract here](\" + item.paper_url + \")\\n\" \n",
    "    \n",
    "    md_filename = os.path.basename(md_filename)\n",
    "       \n",
    "    with open(\"../_research/\" + md_filename, 'w') as f:\n",
    "        f.write(md)"
   ]
  },
  {
   "attachments": {},
   "cell_type": "markdown",
   "metadata": {},
   "source": [
    "These files are in the research directory, one directory below where we're working from."
   ]
  },
  {
   "cell_type": "code",
   "execution_count": 18,
   "metadata": {
    "collapsed": false,
    "deletable": true,
    "editable": true
   },
   "outputs": [
    {
     "name": "stdout",
     "output_type": "stream",
     "text": [
      "2016-02-16-caloric-restriction.md  2018-05-01-bowditch.md\n",
      "2017-04-01-angiotensin.md          2021-05-31-embedded-dnn-battery.md\n",
      "2017-04-01-coronary.md\n"
     ]
    }
   ],
   "source": [
    "!ls ../_research/"
   ]
  },
  {
   "cell_type": "code",
   "execution_count": null,
   "metadata": {
    "collapsed": true,
    "deletable": true,
    "editable": true
   },
   "outputs": [],
   "source": []
  }
 ],
 "metadata": {
  "interpreter": {
   "hash": "aee8b7b246df8f9039afb4144a1f6fd8d2ca17a180786b69acc140d282b71a49"
  },
  "kernelspec": {
   "display_name": "Python 3.10.4 64-bit",
   "language": "python",
   "name": "python3"
  },
  "language_info": {
   "codemirror_mode": {
    "name": "ipython",
    "version": 3
   },
   "file_extension": ".py",
   "mimetype": "text/x-python",
   "name": "python",
   "nbconvert_exporter": "python",
   "pygments_lexer": "ipython3",
   "version": "3.10.4"
  }
 },
 "nbformat": 4,
 "nbformat_minor": 0
}
